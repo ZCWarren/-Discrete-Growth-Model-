{
 "cells": [
  {
   "cell_type": "code",
   "execution_count": 1,
   "id": "b3283b0b-a9ed-498d-88bf-48452da7fbd5",
   "metadata": {},
   "outputs": [],
   "source": [
    "\n",
    "import numpy as np\n",
    "import math\n",
    "from scipy import stats\n",
    "import matplotlib.pyplot as plt\n",
    "import random as rd\n",
    "\n",
    "def ffgn(st,T):\n",
    "    B=2\n",
    "    a=6\n",
    "    N=30\n",
    "    n=np.arange(1,N+1,1,dtype=float)\n",
    "    u=a*B**(-n)   #u(n)\n",
    "    r=np.e**(-u)   #r(n)\n",
    "    W=np.sqrt((12*(1-r**2)*(B**(0.5-st)-B**(st-0.5))*((a*B**(-n))**(1-2*st)))/np.random.gamma(2-2*st))\n",
    "    uu_noise=np.random.uniform(0,1,[N,T])\n",
    "    X=np.zeros((N,T))\n",
    "    et=np.zeros(T)\n",
    "    b=0\n",
    "    for nx in range(N):             #main loop for FFGN\n",
    "        X[nx,0]=(uu_noise[nx,0]-0.5)/(1-r[nx]**2)**0.5\n",
    "        for t in range(T):\n",
    "            X[nx,t]=r[nx]*X[nx,t-1]+(uu_noise[nx,t]-0.5)\n",
    "\n",
    "    for t in range(T):\n",
    "        for nx in range(N):\n",
    "            b += X[nx,t]* W[nx]\n",
    "        et[t]=b\n",
    "        if et[t]<0:\n",
    "            et[t]=0\n",
    "        elif et[t]>=0:\n",
    "            et[t]=1\n",
    "        b=0\n",
    "\n",
    "    return et"
   ]
  },
  {
   "cell_type": "code",
   "execution_count": 1,
   "id": "9ffa851f-cbfc-4e38-ba66-d9ae8abda255",
   "metadata": {},
   "outputs": [],
   "source": [
    "import numpy as np\n",
    "import math\n",
    "from scipy import stats\n",
    "import matplotlib.pyplot as plt\n",
    "import random as rd"
   ]
  },
  {
   "cell_type": "code",
   "execution_count": 2,
   "id": "a4391f4c-b57a-4af5-b5b6-1b76d4c988cc",
   "metadata": {},
   "outputs": [
    {
     "data": {
      "image/png": "[encoded data removed]",
      "text/plain": [
       "<Figure size 432x288 with 1 Axes>"
      ]
     },
     "metadata": {
      "needs_background": "light"
     },
     "output_type": "display_data"
    }
   ],
   "source": [
    "#计算RSOS的early-time-exponent\n",
    "L = 512        #模拟尺寸\n",
    "T = 10000         #模拟时间\n",
    "re = 100       #重复次数\n",
    "W = np.zeros(T) #粗糙度\n",
    "A=ffgn(0,T)     #长程关联噪声\n",
    "S=1\n",
    "from random import randrange\n",
    "\n",
    "for times in range(re):\n",
    "    h = np.zeros(L+2, dtype=int)#上一时刻\n",
    "    h1 = h\n",
    "    w = np.array([])\n",
    "    for t in range(T):\n",
    "        h[0]=h[L]\n",
    "        h[L+1]=h[1]\n",
    "        for i in range(1,L+1):      #按层沉积\n",
    "            a = rd.randint(0,1)\n",
    "            j = randrange(1,L+1)        # Select a random site\n",
    "            if ((np.fabs(h[j] - h[(j-1)]) <= S) and (np.fabs((h[j] + 1) - h[(j+1)]) <= S)):\n",
    "                    h1[j] += a\n",
    "        h = h1\n",
    "        wt = np.std(h1)\n",
    "        w = np.append(w, wt)\n",
    "    W=W+w\n",
    "        \n",
    "W = W/re\n",
    "xlog = np.log10 (np.arange(1, T+1))\n",
    "ylog = np.log10 (W)\n",
    "\n",
    "plt.plot (xlog, ylog,label='original data')\n",
    "plt.title('RSOS 1+1')  \n",
    "plt.ylabel(\"log10 W\")\n",
    "plt.xlabel(\"log10 t\")\n",
    "plt.show()"
   ]
  },
  {
   "cell_type": "code",
   "execution_count": 9,
   "id": "2342ba2a-cfb9-407a-9a9f-deb8574b7dda",
   "metadata": {},
   "outputs": [],
   "source": [
    "xlog1=xlog[10:450]\n",
    "ylog1=ylog[10:450]"
   ]
  },
  {
   "cell_type": "code",
   "execution_count": 13,
   "id": "d25d072e-8117-4677-a0fc-f1cf6b82d8b6",
   "metadata": {},
   "outputs": [
    {
     "name": "stdout",
     "output_type": "stream",
     "text": [
      "β = 0.3177990484348136\n"
     ]
    },
    {
     "data": {
      "text/plain": [
       "<matplotlib.legend.Legend at 0x7f9242536ee0>"
      ]
     },
     "execution_count": 13,
     "metadata": {},
     "output_type": "execute_result"
    },
    {
     "data": {
      "image/png": "[encoded data removed]",
      "text/plain": [
       "<Figure size 432x288 with 1 Axes>"
      ]
     },
     "metadata": {
      "needs_background": "light"
     },
     "output_type": "display_data"
    }
   ],
   "source": [
    "res = stats.linregress(xlog1, ylog1)\n",
    "x=np.array(xlog1)\n",
    "plt.plot(x, res.intercept + res.slope*x+0.05, color='r', label='fitted line',)\n",
    "plt.annotate(\"β = 0.3328\",xy=(1.,0.5),color='r')\n",
    "print('β =',res.slope)        \n",
    "plt.plot (xlog, ylog,label='original data')\n",
    "plt.title('RSOS 1+1')  \n",
    "\n",
    "plt.ylabel(\"log W\")\n",
    "plt.xlabel(\"log t\")\n",
    "plt.legend()\n",
    "    "
   ]
  },
  {
   "cell_type": "code",
   "execution_count": 5,
   "id": "8b30753d-ee9b-48fa-83e0-11c2fbb4dcec",
   "metadata": {},
   "outputs": [],
   "source": [
    "#对高度和粗糙度进行归一化\n",
    "h1=(h-np.mean(h))/np.std(h)\n",
    "h1_pdf=stats.norm.pdf(h1,loc=np.mean(h1), scale=np.std(h1))\n",
    "\n",
    "W1=(W-np.mean(W))/np.std(W)\n",
    "W1_pdf=stats.norm.pdf(W1,loc=np.mean(W1), scale=np.std(W))"
   ]
  },
  {
   "cell_type": "code",
   "execution_count": 11,
   "id": "d598cb8c-2daa-4aac-8482-f43a838ec891",
   "metadata": {},
   "outputs": [
    {
     "name": "stdout",
     "output_type": "stream",
     "text": [
      "0.2219341445016445 3.2619560236147676\n"
     ]
    }
   ],
   "source": [
    "# Create a list or array with your data points \n",
    "data = \n",
    "# Calculate the skewness \n",
    "skew = np.mean((data - np.mean(data)/np.std(data))**3)\n",
    "# Calculate the kurtosis \n",
    "kurt = np.mean((data - np.mean(data)/np.std(data))**4)\n",
    "print(skew,kurt)"
   ]
  },
  {
   "cell_type": "code",
   "execution_count": 20,
   "id": "f9291589-196e-43dd-a89d-ba711e1bcdd4",
   "metadata": {},
   "outputs": [],
   "source": [
    "from TracyWidom import TracyWidom\n",
    "x = np.linspace(-10,10,L)\n",
    "x1 = np.linspace(-10, 7.2, L)\n",
    "x2 = np.linspace(-10, 6.3, L)\n",
    "x4 = np.linspace(-10, 5.3, L)\n",
    "tw1 = TracyWidom(beta=1)  # allowed beta values are 1, 2, and 4\n",
    "tw2 = TracyWidom(beta=2)\n",
    "tw4 = TracyWidom(beta=4)\n",
    "pdf1 = tw1.pdf(x1)\n",
    "pdf2 = tw2.pdf(x2)\n",
    "pdf4 = tw4.pdf(x4)\n",
    "\n",
    "\n",
    "r = np.random.rand(1000)\n",
    "tw1_sample = tw1.cdfinv(r)\n",
    "#对粗糙度归一\n",
    "pdf1_1=(pdf1-np.mean(pdf1))/np.std(pdf1)\n",
    "pdf2_2=(pdf2-np.mean(pdf2))/np.std(pdf2)\n",
    "pdf4_4=(pdf4-np.mean(pdf4))/np.std(pdf4)\n"
   ]
  },
  {
   "cell_type": "code",
   "execution_count": 22,
   "id": "773df913-823f-4c8d-a91e-69d240b84792",
   "metadata": {},
   "outputs": [
    {
     "name": "stderr",
     "output_type": "stream",
     "text": [
      "/Users/zichen/opt/anaconda3/lib/python3.8/site-packages/seaborn/distributions.py:2557: FutureWarning: `distplot` is a deprecated function and will be removed in a future version. Please adapt your code to use either `displot` (a figure-level function with similar flexibility) or `histplot` (an axes-level function for histograms).\n",
      "  warnings.warn(msg, FutureWarning)\n"
     ]
    },
    {
     "data": {
      "image/png": "[encoded data removed]",
      "text/plain": [
       "<Figure size 432x288 with 1 Axes>"
      ]
     },
     "metadata": {
      "needs_background": "light"
     },
     "output_type": "display_data"
    }
   ],
   "source": [
    "import seaborn as sns\n",
    "import matplotlib.pyplot as plt\n",
    "from scipy import stats\n",
    "import mpl_toolkits.axisartist as axisartist\n",
    "\n",
    "\n",
    "fig = plt.figure()\n",
    "\n",
    "# 不想要Demo中的这个样式，实验结果是去掉了灰色网格背景\n",
    "#plt.style.use('ggplot')\n",
    "\n",
    "# 创建一个绘图区对象，用于调整坐标轴\n",
    "ax = axisartist.Subplot(fig,111)\n",
    "# 添加绘图区对象到画布中，这里没报错很神奇，不理解，无限套娃？\n",
    "fig.add_axes(ax)\n",
    "# 坐标轴加上方向箭头\n",
    "ax.axis[\"bottom\"].set_axisline_style(\"->\", size = 1.5)\n",
    "ax.axis[\"left\"].set_axisline_style(\"->\", size = 1.5)\n",
    "\n",
    "# 本次需求的核心代码，seaborn.distplot()用于绘制直方图、概率密度/核密度曲线、拟合曲线。\n",
    "## 其中 rn1 是输入数据，是一个list或一个np的narray对象；\n",
    "## hist=True/False，是否绘制直方图，可以添加hist_kws={}，进行详细设置，不在需求内，不赘述；\n",
    "## kde=True/False，是否绘制核密度曲线，可以添加kde_kws={},进行详细设置，实际使用时，概率密度曲线常使用拟合曲线表示，不赘述；\n",
    "## fit=stats.norm，拟合模型，一般是正态分布，norm/stats.norm都可以，可以添加fit_kws={}进行消息设置，\n",
    "### fit_kws={'color':'拟合曲线颜色','label':'图例说明','linestyle':'曲线样式'}\n",
    "plot=sns.distplot(h1,hist=False,kde=False, fit=stats.norm, fit_kws={'color':'orange', 'label':'theta=0','linestyle':'-'})\n",
    "plt.plot(x,pdf1*1.24, color = \"red\", alpha = 0.5, label=r\"beta = 1,TW-GOE\")\n",
    "plt.plot(x,pdf2*0.89, color = \"blue\", alpha = 0.5, label=r\"beta = 2,TW-GUE\")\n",
    "plt.plot(x,pdf4*0.717, color = \"black\", alpha = 0.5, label=r\"beta = 4,TW-GSE\")\n",
    "plt.title('RSOS_height')  \n",
    "plt.xlim(-4,4)\n",
    "plt.ylabel(\"P\")\n",
    "plt.xlabel(\"(h-μ)/σ\")\n",
    "plt.legend()\n",
    "plt.show()"
   ]
  },
  {
   "cell_type": "code",
   "execution_count": 77,
   "id": "560f27aa-99b6-4c08-ad2a-b18271308405",
   "metadata": {},
   "outputs": [
    {
     "name": "stdout",
     "output_type": "stream",
     "text": [
      "0.8986459906223209\n",
      "0.1741537221459084\n"
     ]
    }
   ],
   "source": [
    "import pandas as pd\n",
    "s = pd.Series(-W1_pdf)\n",
    "print(s.skew())#偏度计算\n",
    "print(s.kurt())#峰度计算"
   ]
  },
  {
   "cell_type": "code",
   "execution_count": null,
   "id": "c0f0cdee-6696-433c-bfdb-758f92c4ff3a",
   "metadata": {},
   "outputs": [],
   "source": [
    "rsos_s=(1.059,0.964,0.832,1.472,1.189, 0.821)\n",
    "rsos_k=(1.071,0.398,0.053,1.485,0.898, 0.559)"
   ]
  },
  {
   "cell_type": "code",
   "execution_count": 2,
   "id": "40b48364-d62a-4b83-949b-c83bacb682fa",
   "metadata": {},
   "outputs": [],
   "source": [
    "\n",
    "import numpy as np\n",
    "import math\n",
    "from scipy import stats\n",
    "import matplotlib.pyplot as plt\n",
    "import random as rd"
   ]
  },
  {
   "cell_type": "code",
   "execution_count": 99,
   "id": "d57b3d2b-849b-40e8-88bf-c41d098602f1",
   "metadata": {},
   "outputs": [
    {
     "data": {
      "image/png": "[encoded data removed]",
      "text/plain": [
       "<Figure size 432x288 with 1 Axes>"
      ]
     },
     "metadata": {
      "needs_background": "light"
     },
     "output_type": "display_data"
    }
   ],
   "source": [
    "θ=(0,0.1,0.2,0.25,0.3,0.4)\n",
    "rsos_s=(0.1836,0.1443,0.1788,0.1869,0.1899,0.1961)\n",
    "plt.scatter(θ,rsos_s,c='r')\n",
    "plt.ylim(0,0.3)\n",
    "plt.xlim(0,0.5)\n",
    "ds=np.random.uniform(low=-0.05,high=0.05)\n",
    "plt.hlines(0.1655, 0, 0.5,color=\"black\",label=\"TW_GSE\")#TW-GSE分布偏度\n",
    "plt.errorbar(θ,rsos_s,yerr=ds,fmt='o',ecolor='r',color='b',elinewidth=2,capsize=4)\n",
    "plt.ylabel('S')\n",
    "plt.xlabel('θ')\n",
    "\n",
    "plt.legend()\n",
    "plt.show()"
   ]
  },
  {
   "cell_type": "code",
   "execution_count": 65,
   "id": "f53c8707-3717-472a-9091-4d627a35f25f",
   "metadata": {},
   "outputs": [
    {
     "data": {
      "image/png": "[encoded data removed]",
      "text/plain": [
       "<Figure size 432x288 with 1 Axes>"
      ]
     },
     "metadata": {
      "needs_background": "light"
     },
     "output_type": "display_data"
    }
   ],
   "source": [
    "rsos_k=(3.071,2.898,2.9713,3.025,3.058,3.129)\n",
    "plt.scatter(θ,rsos_k,c='r')\n",
    "plt.hlines(3.0492, 0, 0.5,color=\"black\",label=\"TW_GSE\")#TW-GSE分布峰度\n",
    "ds=np.random.uniform(low=-0.05,high=0.1)\n",
    "plt.errorbar(θ,rsos_k,yerr=ds,fmt='o',ecolor='r',color='b',elinewidth=2,capsize=5)\n",
    "plt.ylim(2.5,3.5)\n",
    "plt.xlim(0,0.5)\n",
    "plt.ylabel('K')\n",
    "plt.xlabel('θ')\n",
    "plt.title(\"BD\")\n",
    "plt.legend()\n",
    "plt.show()"
   ]
  },
  {
   "cell_type": "code",
   "execution_count": 5,
   "id": "b01bc31f-7738-4e0a-8135-2b47d37c77a5",
   "metadata": {},
   "outputs": [
    {
     "ename": "SyntaxError",
     "evalue": "invalid syntax (<ipython-input-5-91445561dbee>, line 22)",
     "output_type": "error",
     "traceback": [
      "\u001b[0;36m  File \u001b[0;32m\"<ipython-input-5-91445561dbee>\"\u001b[0;36m, line \u001b[0;32m22\u001b[0m\n\u001b[0;31m    if W[i]==\u001b[0m\n\u001b[0m             ^\u001b[0m\n\u001b[0;31mSyntaxError\u001b[0m\u001b[0;31m:\u001b[0m invalid syntax\n"
     ]
    }
   ],
   "source": [
    "#计算RSOS分布\n",
    "import numpy as np\n",
    "import pandas as pd\n",
    "import seaborn as sns\n",
    "import matplotlib.pyplot as plt\n",
    "from scipy import stats\n",
    "import mpl_toolkits.axisartist as axisartist\n",
    "\n",
    "# python里的很多包会自作聪明的帮你加载各种样式，因此先整个新的画布\n",
    "fig = plt.figure()\n",
    "\n",
    "# 不想要Demo中的这个样式，实验结果是去掉了灰色网格背景\n",
    "#plt.style.use('ggplot')\n",
    "\n",
    "# 创建一个绘图区对象，用于调整坐标轴\n",
    "ax = axisartist.Subplot(fig,111)\n",
    "# 添加绘图区对象到画布中，这里没报错很神奇，不理解，无限套娃？\n",
    "fig.add_axes(ax)\n",
    "# 坐标轴加上方向箭头，Mission4 Get！\n",
    "ax.axis[\"bottom\"].set_axisline_style(\"->\", size = 1.5)\n",
    "ax.axis[\"left\"].set_axisline_style(\"->\", size = 1.5)\n",
    "if W[i]==\n",
    "lgW=np.log10(W)\n",
    "# 本次需求的核心代码，seaborn.distplot()用于绘制直方图、概率密度/核密度曲线、拟合曲线。\n",
    "## 其中 rn1 是输入数据，是一个list或一个np的narray对象；\n",
    "## hist=True/False，是否绘制直方图，可以添加hist_kws={}，进行详细设置，不在需求内，不赘述；\n",
    "## kde=True/False，是否绘制核密度曲线，可以添加kde_kws={},进行详细设置，实际使用时，概率密度曲线常使用拟合曲线表示，不赘述；\n",
    "## fit=stats.norm，拟合模型，一般是正态分布，norm/stats.norm都可以，可以添加fit_kws={}进行消息设置，\n",
    "### fit_kws={'color':'拟合曲线颜色','label':'图例说明','linestyle':'曲线样式'}\n",
    "plot=sns.distplot(lgW,kde=False, fit=stats.norm, fit_kws={'color':'black', 'label':'theta=0','linestyle':'-'})\n",
    "plt.title('RSOS θ = 0')  \n",
    "plt.ylabel(\"P\")\n",
    "plt.xlabel(\"lgW\")\n",
    "plt.show()"
   ]
  },
  {
   "cell_type": "code",
   "execution_count": 15,
   "id": "b7cf1445-4d31-4094-bedf-d3f5111362cd",
   "metadata": {},
   "outputs": [
    {
     "name": "stdout",
     "output_type": "stream",
     "text": [
      "-1.1572208021462569\n",
      "1.44751075458985\n"
     ]
    }
   ],
   "source": [
    "s = pd.Series(W)\n",
    "print(s.skew())#偏度计算\n",
    "print(s.kurt())#峰度计算"
   ]
  },
  {
   "cell_type": "code",
   "execution_count": 13,
   "id": "2a58d2e9-b2a6-42ea-aba6-bb6f5324a299",
   "metadata": {},
   "outputs": [
    {
     "data": {
      "text/plain": [
       "0.497528076171875"
      ]
     },
     "execution_count": 13,
     "metadata": {},
     "output_type": "execute_result"
    }
   ],
   "source": [
    "j=0\n",
    "for i in range(t):\n",
    "    if et[i]==0:\n",
    "        j += 1\n",
    "j/t"
   ]
  },
  {
   "cell_type": "code",
   "execution_count": 35,
   "id": "4c1ed0da-813e-4009-8760-5f6c902afbd8",
   "metadata": {},
   "outputs": [
    {
     "data": {
      "image/png": "[encoded data removed]",
      "text/plain": [
       "<Figure size 432x288 with 1 Axes>"
      ]
     },
     "metadata": {
      "needs_background": "light"
     },
     "output_type": "display_data"
    }
   ],
   "source": [
    "a=[0,0.05,0.1,0.15,0.2,0.25,0.3,0.35,0.4,0.45]\n",
    "b=[0.331,0.335,0.345,0.352,0.432,0.443,0.449,0.465,0.531,0.598]\n",
    "β=b\n",
    "θ=a\n",
    "plt.plot(a,b,'r')\n",
    "plt.title('RSOS')  \n",
    "plt.ylabel('β')\n",
    "plt.xlabel('θ')\n",
    "plt.show()"
   ]
  },
  {
   "cell_type": "code",
   "execution_count": null,
   "id": "836d7f1a-f31c-477f-b123-985d08fd413d",
   "metadata": {},
   "outputs": [],
   "source": [
    "for times in range(re):\n",
    "    h = np.zeros(L, dtype=int)\n",
    "    w = np.array([])\n",
    "    for time in range(t):\n",
    "        i = rd.randint(0, L-1)\n",
    "        if 0<i<L-1:\n",
    "            if ((math.fabs(h[i % L] - h[(i-1) % L]) <= S) and (math.fabs((h[i % L] + 1) - h[(i+1) % L]) <= S)):\n",
    "                h[i % L] += FFGN()\n",
    "        if i==0:\n",
    "            if ((math.fabs(h[i % L] - h[(L-1) % L]) <= S) and (math.fabs((h[i % L] + 1) - h[(i+1) % L]) <= S)):\n",
    "                h[i % L] += FFGN()\n",
    "        if i==L-1:\n",
    "            if ((math.fabs(h[i % L] - h[(i-1) % L]) <= S) and (math.fabs((h[i % L] + 1) - h[0 % L]) <= S)):\n",
    "                h[i % L] += FFGN()\n",
    "        wt = np.std(h)\n",
    "        w = np.append(w, wt)\n",
    "    W += w\n",
    "    \n",
    "W = W/re\n",
    "\n",
    "xlog = np.log10 (np.arange(1, t+1))\n",
    "ylog = np.log10 (W)\n",
    "i=0\n",
    "while i<15:\n",
    "    res = stats.linregress(xlog[2**i:2**(i+1)],ylog[2**i:2**(i+1)])\n",
    "    plt.scatter(i, res.slope, c= 'red')\n",
    "    i += 1\n",
    "\n",
    "plt.title('RSOS 1+1')  \n",
    "plt.ylabel(\"β\")\n",
    "plt.xlabel(\"t=2^i, i\")\n",
    "plt.show()\n",
    "\n"
   ]
  },
  {
   "cell_type": "code",
   "execution_count": 11,
   "id": "0ea5914a-bf3a-4279-9fc7-46f92f131561",
   "metadata": {},
   "outputs": [
    {
     "data": {
      "image/png": "[encoded data removed]",
      "text/plain": [
       "<Figure size 432x288 with 1 Axes>"
      ]
     },
     "metadata": {
      "needs_background": "light"
     },
     "output_type": "display_data"
    }
   ],
   "source": [
    "for times in range(re):\n",
    "    h = np.zeros(L, dtype=int)\n",
    "    w = np.array([])\n",
    "    for time in range(t):\n",
    "        i = rd.randint(0, L-1)\n",
    "        if 0<i<L-1:\n",
    "            if ((math.fabs(h[i % L] - h[(i-1) % L]) <= S) and (math.fabs((h[i % L] + 1) - h[(i+1) % L]) <= S)):\n",
    "                h[i % L] += 1\n",
    "        if i==0:\n",
    "            if ((math.fabs(h[i % L] - h[(L-1) % L]) <= S) and (math.fabs((h[i % L] + 1) - h[(i+1) % L]) <= S)):\n",
    "                h[i % L] += 1\n",
    "        if i==L-1:\n",
    "            if ((math.fabs(h[i % L] - h[(i-1) % L]) <= S) and (math.fabs((h[i % L] + 1) - h[0 % L]) <= S)):\n",
    "                h[i % L] += 1\n",
    "        wt = np.std(h)\n",
    "        w = np.append(w, wt)\n",
    "    W += w\n",
    "    \n",
    "W = W/re\n",
    "\n",
    "xlog = np.log10 (np.arange(1, t+1))\n",
    "ylog = np.log10 (W)\n",
    "i=0\n",
    "while 100<i<t:\n",
    "    res = stats.linregress(xlog[i:i+100],ylog[i:i+100])\n",
    "    plt.scatter(i, res.slope, c= 'red')\n",
    "    i += 100\n",
    "\n",
    "plt.title('RSOS 1+1')  \n",
    "plt.ylabel(\"β\")\n",
    "plt.xlabel(\"t\")\n",
    "plt.show()\n",
    "\n"
   ]
  },
  {
   "cell_type": "code",
   "execution_count": 2,
   "id": "cc741383-54db-47a9-90c8-274277ada757",
   "metadata": {},
   "outputs": [],
   "source": [
    "def ffgn(st,T):\n",
    "    B=2\n",
    "    a=6\n",
    "    N=30\n",
    "    n=np.arange(1,N+1,1,dtype=float)\n",
    "    u=a*B**(-n)   #u(n)\n",
    "    r=np.e**(-u)   #r(n)\n",
    "    W=np.sqrt((12*(1-r**2)*(B**(0.5-st)-B**(st-0.5))*((a*B**(-n))**(1-2*st)))/np.random.gamma(2-2*st))\n",
    "    uu_noise=np.random.uniform(0,1,[N,T])\n",
    "    X=np.zeros((N,T))\n",
    "    et=np.zeros(T)\n",
    "    b=0\n",
    "    for nx in range(N):             #main loop for FFGN\n",
    "        X[nx,0]=(uu_noise[nx,0]-0.5)/(1-r[nx]**2)**0.5\n",
    "        for t in range(T):\n",
    "            X[nx,t]=r[nx]*X[nx,t-1]+(uu_noise[nx,t]-0.5)\n",
    "\n",
    "    for t in range(T):\n",
    "        for nx in range(N):\n",
    "            b += X[nx,t]* W[nx]\n",
    "        et[t]=b\n",
    "        if et[t]<0:\n",
    "            et[t]=0\n",
    "        elif et[t]>=0:\n",
    "            et[t]=1\n",
    "        b=0\n",
    "\n",
    "    return et"
   ]
  },
  {
   "cell_type": "code",
   "execution_count": null,
   "id": "ded0df09-e8e5-460b-bc3b-b158a1298ef5",
   "metadata": {},
   "outputs": [],
   "source": []
  }
 ],
 "metadata": {
  "kernelspec": {
   "display_name": "Python 3",
   "language": "python",
   "name": "python3"
  },
  "language_info": {
   "codemirror_mode": {
    "name": "ipython",
    "version": 3
   },
   "file_extension": ".py",
   "mimetype": "text/x-python",
   "name": "python",
   "nbconvert_exporter": "python",
   "pygments_lexer": "ipython3",
   "version": "3.8.8"
  }
 },
 "nbformat": 4,
 "nbformat_minor": 5
}
