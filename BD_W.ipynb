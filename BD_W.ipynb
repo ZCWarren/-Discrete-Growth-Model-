{
 "cells": [
  {
   "cell_type": "code",
   "execution_count": 1,
   "id": "ae988579-1ca1-429d-8aaa-5a95f922311b",
   "metadata": {},
   "outputs": [],
   "source": [
    "import numpy as np\n",
    "import math\n",
    "from scipy import stats\n",
    "import matplotlib.pyplot as plt\n",
    "import random as rd"
   ]
  },
  {
   "cell_type": "code",
   "execution_count": 17,
   "id": "ad2cfe94-e850-40ca-8b9b-76529f36773f",
   "metadata": {},
   "outputs": [],
   "source": [
    "def ffgn(st,T):\n",
    "    B=2\n",
    "    a=6\n",
    "    N=30\n",
    "    n=np.arange(1,N+1,1,dtype=float)\n",
    "    u=a*B**(-n)   #u(n)\n",
    "    r=np.e**(-u)   #r(n)\n",
    "    W=np.sqrt((12*(1-r**2)*(B**(0.5-st)-B**(st-0.5))*((a*B**(-n))**(1-2*st)))/np.random.gamma(2-2*st))\n",
    "    uu_noise=np.random.uniform(0,1,[N,T])\n",
    "    X=np.zeros((N,T))\n",
    "    et=np.zeros(T)\n",
    "    b=0\n",
    "    for nx in range(N):             #main loop for FFGN\n",
    "        X[nx,0]=(uu_noise[nx,0]-0.5)/(1-r[nx]**2)**0.5\n",
    "        for t in range(T):\n",
    "            X[nx,t]=r[nx]*X[nx,t-1]+(uu_noise[nx,t]-0.5)\n",
    "\n",
    "    for t in range(T):\n",
    "        for nx in range(N):\n",
    "            b += X[nx,t]* W[nx]\n",
    "        et[t]=b\n",
    "        if et[t]<0:\n",
    "            et[t]=0\n",
    "        elif et[t]>=0:\n",
    "            et[t]=1\n",
    "        b=0\n",
    "\n",
    "    return et"
   ]
  },
  {
   "cell_type": "code",
   "execution_count": 1,
   "id": "2d04e0f0-c558-4392-8c53-e87d7b08a1c3",
   "metadata": {},
   "outputs": [
    {
     "ename": "NameError",
     "evalue": "name 'np' is not defined",
     "output_type": "error",
     "traceback": [
      "\u001b[0;31m---------------------------------------------------------------------------\u001b[0m",
      "\u001b[0;31mNameError\u001b[0m                                 Traceback (most recent call last)",
      "\u001b[0;32m<ipython-input-1-d7ec1a5b630e>\u001b[0m in \u001b[0;36m<module>\u001b[0;34m\u001b[0m\n\u001b[1;32m      3\u001b[0m \u001b[0mT\u001b[0m \u001b[0;34m=\u001b[0m \u001b[0;36m10000\u001b[0m\u001b[0;34m\u001b[0m\u001b[0;34m\u001b[0m\u001b[0m\n\u001b[1;32m      4\u001b[0m \u001b[0mre\u001b[0m \u001b[0;34m=\u001b[0m \u001b[0;36m10\u001b[0m\u001b[0;34m\u001b[0m\u001b[0;34m\u001b[0m\u001b[0m\n\u001b[0;32m----> 5\u001b[0;31m \u001b[0mW\u001b[0m \u001b[0;34m=\u001b[0m \u001b[0mnp\u001b[0m\u001b[0;34m.\u001b[0m\u001b[0mzeros\u001b[0m\u001b[0;34m(\u001b[0m\u001b[0mT\u001b[0m\u001b[0;34m)\u001b[0m\u001b[0;34m\u001b[0m\u001b[0;34m\u001b[0m\u001b[0m\n\u001b[0m\u001b[1;32m      6\u001b[0m \u001b[0mA\u001b[0m\u001b[0;34m=\u001b[0m\u001b[0mffgn\u001b[0m\u001b[0;34m(\u001b[0m\u001b[0;36m0\u001b[0m\u001b[0;34m,\u001b[0m\u001b[0mT\u001b[0m\u001b[0;34m)\u001b[0m\u001b[0;34m\u001b[0m\u001b[0;34m\u001b[0m\u001b[0m\n\u001b[1;32m      7\u001b[0m \u001b[0;34m\u001b[0m\u001b[0m\n",
      "\u001b[0;31mNameError\u001b[0m: name 'np' is not defined"
     ]
    }
   ],
   "source": [
    "#计算early-time-exponent\n",
    "L = 512\n",
    "T = 10000\n",
    "re = 10\n",
    "W = np.zeros(T)\n",
    "A=ffgn(0,T)\n",
    "\n",
    "for times in range(re):\n",
    "    h = np.zeros(L, dtype=int)\n",
    "    w = np.array([])\n",
    "    for t in range(T):\n",
    "        i = rd.randint(0, L-1)\n",
    "        if i==0:\n",
    "            h[i] = max(h[L-1], h[i]+1, h[i+1])\n",
    "        elif i==L-1:\n",
    "            h[i] = max(h[i-1], h[i]+1, h[0])\n",
    "        else: \n",
    "            h[i] = max(h[i-1], h[i]+1, h[i+1])\n",
    "        wt = np.std(h)\n",
    "        w = np.append(w, wt)\n",
    "    W=W+w\n",
    "        \n",
    "W = W/re\n",
    "xlog = np.log10 (np.arange(1, T+1))\n",
    "ylog = np.log10 (W)\n",
    "\n",
    "plt.plot (xlog, ylog,label='original data')\n",
    "plt.title('BD 1+1')  \n",
    "plt.ylabel(\"log10 W\")\n",
    "plt.xlabel(\"log10 t\")\n",
    "plt.show()\n"
   ]
  },
  {
   "cell_type": "code",
   "execution_count": 39,
   "id": "d7ffccef-ea52-4673-ba18-0b4917f507e7",
   "metadata": {},
   "outputs": [
    {
     "name": "stdout",
     "output_type": "stream",
     "text": [
      "β = 0.2937312612651692\n"
     ]
    },
    {
     "data": {
      "text/plain": [
       "<matplotlib.legend.Legend at 0x7fbd2dfa9dc0>"
      ]
     },
     "execution_count": 39,
     "metadata": {},
     "output_type": "execute_result"
    },
    {
     "data": {
      "image/png": "[encoded data removed]",
      "text/plain": [
       "<Figure size 432x288 with 1 Axes>"
      ]
     },
     "metadata": {
      "needs_background": "light"
     },
     "output_type": "display_data"
    }
   ],
   "source": [
    "res = stats.linregress(xlog, ylog)\n",
    "x=np.array(xlog)\n",
    "plt.plot(x, res.intercept + res.slope*x, color='r', label='fitted line',)\n",
    "plt.annotate(\"β = 0.2937\",xy=(2,0.8),color='r')\n",
    "print('β =',res.slope)        \n",
    "plt.plot (xlog, ylog,label='original data')\n",
    "plt.title('BD 1+1')  \n",
    "plt.ylabel(\"log W\")\n",
    "plt.xlabel(\"log t\")\n",
    "plt.legend()\n",
    "    "
   ]
  },
  {
   "cell_type": "code",
   "execution_count": 41,
   "id": "705afcec-6a51-4012-bf55-1c6aa9fe81ae",
   "metadata": {},
   "outputs": [],
   "source": [
    "#对粗糙度进行标准差归一化\n",
    "W1=(W-np.mean(W))/np.std(W)"
   ]
  },
  {
   "cell_type": "code",
   "execution_count": 3,
   "id": "c531ea96-b13d-438f-b79e-3dc275b2f42b",
   "metadata": {},
   "outputs": [
    {
     "ename": "NameError",
     "evalue": "name 'W' is not defined",
     "output_type": "error",
     "traceback": [
      "\u001b[0;31m---------------------------------------------------------------------------\u001b[0m",
      "\u001b[0;31mNameError\u001b[0m                                 Traceback (most recent call last)",
      "\u001b[0;32m<ipython-input-3-6fb98ab54a11>\u001b[0m in \u001b[0;36m<module>\u001b[0;34m\u001b[0m\n\u001b[0;32m----> 1\u001b[0;31m \u001b[0mlen\u001b[0m\u001b[0;34m(\u001b[0m\u001b[0mW\u001b[0m\u001b[0;34m)\u001b[0m\u001b[0;34m\u001b[0m\u001b[0;34m\u001b[0m\u001b[0m\n\u001b[0m",
      "\u001b[0;31mNameError\u001b[0m: name 'W' is not defined"
     ]
    }
   ],
   "source": [
    "len(W)"
   ]
  },
  {
   "cell_type": "code",
   "execution_count": 1,
   "id": "ed73f049-282d-42b3-b1e3-e5fb7a4cf88d",
   "metadata": {},
   "outputs": [
    {
     "ename": "NameError",
     "evalue": "name 'W1' is not defined",
     "output_type": "error",
     "traceback": [
      "\u001b[0;31m---------------------------------------------------------------------------\u001b[0m",
      "\u001b[0;31mNameError\u001b[0m                                 Traceback (most recent call last)",
      "\u001b[0;32m<ipython-input-1-d6c57a99086b>\u001b[0m in \u001b[0;36m<module>\u001b[0;34m\u001b[0m\n\u001b[1;32m      1\u001b[0m \u001b[0;31m# Create a list or array with your data points\u001b[0m\u001b[0;34m\u001b[0m\u001b[0;34m\u001b[0m\u001b[0;34m\u001b[0m\u001b[0m\n\u001b[0;32m----> 2\u001b[0;31m \u001b[0mdata\u001b[0m \u001b[0;34m=\u001b[0m \u001b[0mW1\u001b[0m\u001b[0;34m\u001b[0m\u001b[0;34m\u001b[0m\u001b[0m\n\u001b[0m\u001b[1;32m      3\u001b[0m \u001b[0;31m# Calculate the skewness\u001b[0m\u001b[0;34m\u001b[0m\u001b[0;34m\u001b[0m\u001b[0;34m\u001b[0m\u001b[0m\n\u001b[1;32m      4\u001b[0m \u001b[0mskew\u001b[0m \u001b[0;34m=\u001b[0m \u001b[0mnp\u001b[0m\u001b[0;34m.\u001b[0m\u001b[0mmean\u001b[0m\u001b[0;34m(\u001b[0m\u001b[0;34m(\u001b[0m\u001b[0mdata\u001b[0m \u001b[0;34m-\u001b[0m \u001b[0mnp\u001b[0m\u001b[0;34m.\u001b[0m\u001b[0mmean\u001b[0m\u001b[0;34m(\u001b[0m\u001b[0mdata\u001b[0m\u001b[0;34m)\u001b[0m\u001b[0;34m)\u001b[0m\u001b[0;34m**\u001b[0m\u001b[0;36m3\u001b[0m\u001b[0;34m)\u001b[0m\u001b[0;34m/\u001b[0m\u001b[0mnp\u001b[0m\u001b[0;34m.\u001b[0m\u001b[0mstd\u001b[0m\u001b[0;34m(\u001b[0m\u001b[0mdata\u001b[0m\u001b[0;34m)\u001b[0m\u001b[0;34m**\u001b[0m\u001b[0;36m3\u001b[0m\u001b[0;34m\u001b[0m\u001b[0;34m\u001b[0m\u001b[0m\n\u001b[1;32m      5\u001b[0m \u001b[0;31m# Calculate the kurtosis\u001b[0m\u001b[0;34m\u001b[0m\u001b[0;34m\u001b[0m\u001b[0;34m\u001b[0m\u001b[0m\n",
      "\u001b[0;31mNameError\u001b[0m: name 'W1' is not defined"
     ]
    }
   ],
   "source": [
    "# Create a list or array with your data points \n",
    "data = W1\n",
    "# Calculate the skewness \n",
    "skew = np.mean((data - np.mean(data))**3)/np.std(data)**3 \n",
    "# Calculate the kurtosis \n",
    "kurt = np.mean((data - np.mean(data))**4)/np.std(data)**4  \n",
    "print(skew,kurt)"
   ]
  },
  {
   "cell_type": "code",
   "execution_count": null,
   "id": "3d1034eb-758c-4a47-bdc6-852b88a4011e",
   "metadata": {},
   "outputs": [],
   "source": [
    "import numpy as np \n",
    "# Create a list or array with your data points \n",
    "data = h\n",
    "# Calculate the skewness \n",
    "skew = np.mean((data - np.mean(data))**3)/np.std(data)**3 \n",
    "# Calculate the kurtosis \n",
    "kurt = np.mean((data - np.mean(data))**4)/np.std(data)**4  \n",
    "print(skew,kurt)"
   ]
  },
  {
   "cell_type": "code",
   "execution_count": 160,
   "id": "b578ef63-1a6b-4642-ae06-204331c2b19e",
   "metadata": {},
   "outputs": [
    {
     "data": {
      "text/plain": [
       "300"
      ]
     },
     "execution_count": 160,
     "metadata": {},
     "output_type": "execute_result"
    }
   ],
   "source": [
    "#W的概率密度图\n",
    "W_pdf=stats.norm.pdf(W,loc=np.mean(W), scale=np.std(W))\n",
    "W1_pdf=stats.norm.pdf(W1,loc=np.mean(W1), scale=np.std(W1))\n",
    "len(W1_pdf)"
   ]
  },
  {
   "cell_type": "code",
   "execution_count": 19,
   "id": "cc93c2cf-034f-4ff3-bd44-2df58ad38e7c",
   "metadata": {},
   "outputs": [
    {
     "data": {
      "image/png": "[encoded data removed]",
      "text/plain": [
       "<Figure size 432x288 with 1 Axes>"
      ]
     },
     "metadata": {
      "needs_background": "light"
     },
     "output_type": "display_data"
    }
   ],
   "source": [
    "#Q-Q plot\n",
    "from scipy import stats\n",
    "stats.probplot(W1, dist=\"norm\", plot=plt)\n",
    "plt.title(\"Normal Q-Q plot\")\n",
    "plt.y\n",
    "plt.show()"
   ]
  },
  {
   "cell_type": "code",
   "execution_count": 10,
   "id": "392f36e2-822a-4342-b00d-6fe89aa51e54",
   "metadata": {},
   "outputs": [
    {
     "name": "stderr",
     "output_type": "stream",
     "text": [
      "/Users/zichen/opt/anaconda3/lib/python3.8/site-packages/seaborn/distributions.py:2557: FutureWarning: `distplot` is a deprecated function and will be removed in a future version. Please adapt your code to use either `displot` (a figure-level function with similar flexibility) or `histplot` (an axes-level function for histograms).\n",
      "  warnings.warn(msg, FutureWarning)\n"
     ]
    },
    {
     "data": {
      "image/png": "[encoded data removed]",
      "text/plain": [
       "<Figure size 432x288 with 1 Axes>"
      ]
     },
     "metadata": {
      "needs_background": "light"
     },
     "output_type": "display_data"
    }
   ],
   "source": [
    "import numpy as np\n",
    "import pandas as pd\n",
    "import seaborn as sns\n",
    "import matplotlib.pyplot as plt\n",
    "from scipy import stats\n",
    "import mpl_toolkits.axisartist as axisartist\n",
    "\n",
    "\n",
    "fig = plt.figure()\n",
    "\n",
    "# 不想要Demo中的这个样式，实验结果是去掉了灰色网格背景\n",
    "#plt.style.use('ggplot')\n",
    "\n",
    "# 创建一个绘图区对象，用于调整坐标轴\n",
    "ax = axisartist.Subplot(fig,111)\n",
    "# 添加绘图区对象到画布中，这里没报错很神奇，不理解，无限套娃？\n",
    "fig.add_axes(ax)\n",
    "# 坐标轴加上方向箭头\n",
    "ax.axis[\"bottom\"].set_axisline_style(\"->\", size = 1.5)\n",
    "ax.axis[\"left\"].set_axisline_style(\"->\", size = 1.5)\n",
    "\n",
    "# 本次需求的核心代码，seaborn.distplot()用于绘制直方图、概率密度/核密度曲线、拟合曲线。\n",
    "## 其中 rn1 是输入数据，是一个list或一个np的narray对象；\n",
    "## hist=True/False，是否绘制直方图，可以添加hist_kws={}，进行详细设置，不在需求内，不赘述；\n",
    "## kde=True/False，是否绘制核密度曲线，可以添加kde_kws={},进行详细设置，实际使用时，概率密度曲线常使用拟合曲线表示，不赘述；\n",
    "## fit=stats.norm，拟合模型，一般是正态分布，norm/stats.norm都可以，可以添加fit_kws={}进行消息设置，\n",
    "### fit_kws={'color':'拟合曲线颜色','label':'图例说明','linestyle':'曲线样式'}\n",
    "plot=sns.distplot(-W1,hist=False,kde=False, fit=stats.norm, fit_kws={'color':'orange', 'label':'theta=0.3','linestyle':'-'})\n",
    "plt.plot(x,pdf1*1.25, color = \"red\", alpha = 0.5, label=r\"beta = 1,TW-GOE\")\n",
    "plt.plot(x,pdf2*0.9, color = \"blue\", alpha = 0.5, label=r\"beta = 2,TW-GUE\")\n",
    "plt.plot(x,pdf4*0.723, color = \"black\", alpha = 0.5, label=r\"beta = 4,TW-GSE\")\n",
    "plt.title('BD θ = 0.3')  \n",
    "plt.xlim(-4,4)\n",
    "plt.ylabel(\"P\")\n",
    "plt.xlabel(\"(W-μ)/σ\")\n",
    "plt.legend()\n",
    "plt.show()"
   ]
  },
  {
   "cell_type": "code",
   "execution_count": 9,
   "id": "b856439c-40ac-4ec7-b74b-7041fb8c300b",
   "metadata": {},
   "outputs": [
    {
     "ename": "NameError",
     "evalue": "name 'W1_pdf' is not defined",
     "output_type": "error",
     "traceback": [
      "\u001b[0;31m---------------------------------------------------------------------------\u001b[0m",
      "\u001b[0;31mNameError\u001b[0m                                 Traceback (most recent call last)",
      "\u001b[0;32m<ipython-input-9-d052f55aaa28>\u001b[0m in \u001b[0;36m<module>\u001b[0;34m\u001b[0m\n\u001b[0;32m----> 1\u001b[0;31m \u001b[0mplt\u001b[0m\u001b[0;34m.\u001b[0m\u001b[0mscatter\u001b[0m\u001b[0;34m(\u001b[0m\u001b[0;34m-\u001b[0m\u001b[0mW1\u001b[0m\u001b[0;34m,\u001b[0m\u001b[0mW1_pdf\u001b[0m\u001b[0;34m,\u001b[0m \u001b[0mcolor\u001b[0m \u001b[0;34m=\u001b[0m \u001b[0;34m\"orange\"\u001b[0m\u001b[0;34m,\u001b[0m \u001b[0malpha\u001b[0m \u001b[0;34m=\u001b[0m \u001b[0;36m1\u001b[0m\u001b[0;34m,\u001b[0m \u001b[0mmarker\u001b[0m\u001b[0;34m=\u001b[0m\u001b[0;34m'v'\u001b[0m\u001b[0;34m,\u001b[0m\u001b[0mlabel\u001b[0m\u001b[0;34m=\u001b[0m\u001b[0;34mr\"BD theta=0.3\"\u001b[0m\u001b[0;34m)\u001b[0m\u001b[0;34m\u001b[0m\u001b[0;34m\u001b[0m\u001b[0m\n\u001b[0m\u001b[1;32m      2\u001b[0m \u001b[0mplt\u001b[0m\u001b[0;34m.\u001b[0m\u001b[0mplot\u001b[0m\u001b[0;34m(\u001b[0m\u001b[0mx\u001b[0m\u001b[0;34m,\u001b[0m\u001b[0mpdf2\u001b[0m\u001b[0;34m*\u001b[0m\u001b[0;36m0.9\u001b[0m\u001b[0;34m,\u001b[0m \u001b[0mcolor\u001b[0m \u001b[0;34m=\u001b[0m \u001b[0;34m\"blue\"\u001b[0m\u001b[0;34m,\u001b[0m \u001b[0malpha\u001b[0m \u001b[0;34m=\u001b[0m \u001b[0;36m0.5\u001b[0m\u001b[0;34m,\u001b[0m \u001b[0mlabel\u001b[0m\u001b[0;34m=\u001b[0m\u001b[0;34mr\"beta = 2,TW-GUE\"\u001b[0m\u001b[0;34m)\u001b[0m\u001b[0;34m\u001b[0m\u001b[0;34m\u001b[0m\u001b[0m\n\u001b[1;32m      3\u001b[0m \u001b[0mplt\u001b[0m\u001b[0;34m.\u001b[0m\u001b[0mplot\u001b[0m\u001b[0;34m(\u001b[0m\u001b[0mx\u001b[0m\u001b[0;34m,\u001b[0m\u001b[0mpdf4\u001b[0m\u001b[0;34m*\u001b[0m\u001b[0;36m0.723\u001b[0m\u001b[0;34m,\u001b[0m \u001b[0mcolor\u001b[0m \u001b[0;34m=\u001b[0m \u001b[0;34m\"black\"\u001b[0m\u001b[0;34m,\u001b[0m \u001b[0malpha\u001b[0m \u001b[0;34m=\u001b[0m \u001b[0;36m0.5\u001b[0m\u001b[0;34m,\u001b[0m \u001b[0mlabel\u001b[0m\u001b[0;34m=\u001b[0m\u001b[0;34mr\"beta = 4,TW-GSE\"\u001b[0m\u001b[0;34m)\u001b[0m\u001b[0;34m\u001b[0m\u001b[0;34m\u001b[0m\u001b[0m\n\u001b[1;32m      4\u001b[0m \u001b[0mplt\u001b[0m\u001b[0;34m.\u001b[0m\u001b[0mtitle\u001b[0m\u001b[0;34m(\u001b[0m\u001b[0;34m'BD θ = 0.3'\u001b[0m\u001b[0;34m)\u001b[0m\u001b[0;34m\u001b[0m\u001b[0;34m\u001b[0m\u001b[0m\n\u001b[1;32m      5\u001b[0m \u001b[0mplt\u001b[0m\u001b[0;34m.\u001b[0m\u001b[0mxlim\u001b[0m\u001b[0;34m(\u001b[0m\u001b[0;34m-\u001b[0m\u001b[0;36m4\u001b[0m\u001b[0;34m,\u001b[0m\u001b[0;36m4\u001b[0m\u001b[0;34m)\u001b[0m\u001b[0;34m\u001b[0m\u001b[0;34m\u001b[0m\u001b[0m\n",
      "\u001b[0;31mNameError\u001b[0m: name 'W1_pdf' is not defined"
     ]
    }
   ],
   "source": [
    "plt.scatter(-W1,W1_pdf, color = \"orange\", alpha = 1, marker='v',label=r\"BD theta=0.3\")\n",
    "plt.plot(x,pdf2*0.9, color = \"blue\", alpha = 0.5, label=r\"beta = 2,TW-GUE\")\n",
    "plt.plot(x,pdf4*0.723, color = \"black\", alpha = 0.5, label=r\"beta = 4,TW-GSE\")\n",
    "plt.title('BD θ = 0.3')  \n",
    "plt.xlim(-4,4)\n",
    "plt.ylabel(\"P\")\n",
    "plt.xlabel(\"(W-μ)/σ\")\n",
    "plt.legend()\n",
    "plt.show()"
   ]
  },
  {
   "cell_type": "code",
   "execution_count": 3,
   "id": "5d4ce7bc-bd92-4775-9786-105da6f81cae",
   "metadata": {},
   "outputs": [
    {
     "name": "stderr",
     "output_type": "stream",
     "text": [
      "/Users/zichen/opt/anaconda3/lib/python3.8/site-packages/TracyWidom.py:71: RuntimeWarning: invalid value encountered in log1p\n",
      "  ca =  np.log(xa[flag])*c + logyn - np.log1p(u/xa[flag]**1.5 + v/xa[flag]**3)\n"
     ]
    }
   ],
   "source": [
    "from TracyWidom import TracyWidom\n",
    "x = np.linspace(-10,10,300)\n",
    "x1 = np.linspace(-10, 7.2, 300)\n",
    "x2 = np.linspace(-10, 6.25, 300)\n",
    "x4 = np.linspace(-10, 5.3, 300)\n",
    "tw1 = TracyWidom(beta=1)  # allowed beta values are 1, 2, and 4\n",
    "tw2 = TracyWidom(beta=2)\n",
    "tw4 = TracyWidom(beta=4)\n",
    "pdf1 = tw1.pdf(x)\n",
    "pdf2 = tw2.pdf(x)\n",
    "pdf4 = tw4.pdf(x)\n",
    "\n",
    "\n",
    "r = np.random.rand(1000)\n",
    "tw1_sample = tw1.cdfinv(r)"
   ]
  },
  {
   "cell_type": "code",
   "execution_count": 8,
   "id": "b766c593-c6ea-4fbf-a852-a56d62bde65f",
   "metadata": {},
   "outputs": [
    {
     "data": {
      "image/png": "[encoded data removed]",
      "text/plain": [
       "<Figure size 432x288 with 1 Axes>"
      ]
     },
     "metadata": {
      "needs_background": "light"
     },
     "output_type": "display_data"
    }
   ],
   "source": [
    "# 本次需求的核心代码，seaborn.distplot()用于绘制直方图、概率密度/核密度曲线、拟合曲线。\n",
    "## 其中 rn1 是输入数据，是一个list或一个np的narray对象；\n",
    "## hist=True/False，是否绘制直方图，可以添加hist_kws={}，进行详细设置，不在需求内，不赘述；\n",
    "## kde=True/False，是否绘制核密度曲线，可以添加kde_kws={},进行详细设置，实际使用时，概率密度曲线常使用拟合曲线表示，不赘述；\n",
    "## fit=stats.norm，拟合模型，一般是正态分布，norm/stats.norm都可以，可以添加fit_kws={}进行消息设置，\n",
    "### fit_kws={'color':'拟合曲线颜色','label':'图例说明','linestyle':'曲线样式'}\n",
    "plt.plot(x,pdf1, color = \"red\", alpha = 0.5, label=r\"β = 1,TW-GOE\")\n",
    "plt.plot(x,pdf2, color = \"blue\", alpha = 0.5, label=r\"β = 2,TW-GUE\")\n",
    "plt.plot(x,pdf4, color = \"black\", alpha = 0.5, label=r\"β = 4,TW-GSE\")\n",
    "plt.title('Tracy-Widom')  \n",
    "plt.xlim(-5,5)\n",
    "plt.ylabel(\"density\")\n",
    "plt.xlabel(\"t\")\n",
    "plt.legend()\n",
    "plt.show()"
   ]
  },
  {
   "cell_type": "code",
   "execution_count": 18,
   "id": "3a476bbf-51e7-4049-8780-7f2b7ef8bf23",
   "metadata": {},
   "outputs": [
    {
     "name": "stdout",
     "output_type": "stream",
     "text": [
      "0.24659513181296647\n",
      "-0.21398714764912485\n"
     ]
    }
   ],
   "source": [
    "s = pd.Series(h)\n",
    "print(s.skew())#偏度计算\n",
    "print(s.kurt())#峰度计算"
   ]
  },
  {
   "cell_type": "code",
   "execution_count": 11,
   "id": "d885e09a-d7d1-45c1-aa1c-a862cdf3e6e9",
   "metadata": {},
   "outputs": [
    {
     "ename": "NameError",
     "evalue": "name 'W_1' is not defined",
     "output_type": "error",
     "traceback": [
      "\u001b[0;31m---------------------------------------------------------------------------\u001b[0m",
      "\u001b[0;31mNameError\u001b[0m                                 Traceback (most recent call last)",
      "\u001b[0;32m<ipython-input-11-22e76b5dfa76>\u001b[0m in \u001b[0;36m<module>\u001b[0;34m\u001b[0m\n\u001b[0;32m----> 1\u001b[0;31m \u001b[0mlen\u001b[0m\u001b[0;34m(\u001b[0m\u001b[0mW_1\u001b[0m\u001b[0;34m)\u001b[0m\u001b[0;34m\u001b[0m\u001b[0;34m\u001b[0m\u001b[0m\n\u001b[0m",
      "\u001b[0;31mNameError\u001b[0m: name 'W_1' is not defined"
     ]
    }
   ],
   "source": [
    "len(W_1)"
   ]
  },
  {
   "cell_type": "code",
   "execution_count": 12,
   "id": "c94df8c1-9a22-4071-b0b1-2caae05763fe",
   "metadata": {},
   "outputs": [
    {
     "ename": "NameError",
     "evalue": "name 'pdf1' is not defined",
     "output_type": "error",
     "traceback": [
      "\u001b[0;31m---------------------------------------------------------------------------\u001b[0m",
      "\u001b[0;31mNameError\u001b[0m                                 Traceback (most recent call last)",
      "\u001b[0;32m<ipython-input-12-7a7a1a20cf79>\u001b[0m in \u001b[0;36m<module>\u001b[0;34m\u001b[0m\n\u001b[0;32m----> 1\u001b[0;31m \u001b[0mlen\u001b[0m\u001b[0;34m(\u001b[0m\u001b[0mpdf1\u001b[0m\u001b[0;34m)\u001b[0m\u001b[0;34m\u001b[0m\u001b[0;34m\u001b[0m\u001b[0m\n\u001b[0m",
      "\u001b[0;31mNameError\u001b[0m: name 'pdf1' is not defined"
     ]
    }
   ],
   "source": [
    "len(pdf1)"
   ]
  },
  {
   "cell_type": "code",
   "execution_count": 19,
   "id": "1f3250df-5744-4589-b932-f67d743ae6f9",
   "metadata": {},
   "outputs": [],
   "source": [
    "pdf1_1=(pdf1-np.mean(pdf1))/np.std(pdf1)\n",
    "pdf2_2=(pdf2-np.mean(pdf2))/np.std(pdf2)\n",
    "pdf4_4=(pdf4-np.mean(pdf4))/np.std(pdf4)\n",
    "#对粗糙度归一"
   ]
  },
  {
   "cell_type": "code",
   "execution_count": 16,
   "id": "311e36c0-1380-48bf-b18c-8d431ead7b78",
   "metadata": {},
   "outputs": [
    {
     "data": {
      "text/plain": [
       "1.0"
      ]
     },
     "execution_count": 16,
     "metadata": {},
     "output_type": "execute_result"
    }
   ],
   "source": [
    "np.std(pdf1_1)"
   ]
  },
  {
   "cell_type": "code",
   "execution_count": 30,
   "id": "fb631157-f2c1-469f-af2e-66653d72cfe4",
   "metadata": {},
   "outputs": [
    {
     "name": "stdout",
     "output_type": "stream",
     "text": [
      "The distribution is not normal\n"
     ]
    }
   ],
   "source": [
    "#run Shapiro-Wilk test\n",
    "statistics, p = stats.shapiro(W_1)\n",
    "if (p>0.05):\n",
    "    print(\"The distribution is normal\")\n",
    "else:\n",
    "    print(\"The distribution is not normal\")"
   ]
  },
  {
   "cell_type": "code",
   "execution_count": null,
   "id": "2f836e1b-d162-4470-8aa0-0477ccec0754",
   "metadata": {},
   "outputs": [],
   "source": [
    "s1 = pd.Series(W)\n",
    "print(s1.skew(),s1.kurt())"
   ]
  },
  {
   "cell_type": "code",
   "execution_count": 111,
   "id": "1535f6ad-81d0-4f96-9e15-d0e89b55f75d",
   "metadata": {},
   "outputs": [
    {
     "name": "stdout",
     "output_type": "stream",
     "text": [
      "-0.9825325699725345\n",
      "0.5566129672019797\n"
     ]
    }
   ],
   "source": [
    "s = pd.Series(W_1)\n",
    "print(s.skew())#偏度计算\n",
    "print(s.kurt())#峰度计算"
   ]
  },
  {
   "cell_type": "code",
   "execution_count": 46,
   "id": "6724e757-8025-4736-bf8e-ae35347ce345",
   "metadata": {},
   "outputs": [
    {
     "data": {
      "image/png": "[encoded data removed]",
      "text/plain": [
       "<Figure size 432x288 with 1 Axes>"
      ]
     },
     "metadata": {
      "needs_background": "light"
     },
     "output_type": "display_data"
    }
   ],
   "source": [
    "#偏度和峰度随theta的变化\n",
    "a=[0,0.1,0.2,0.3,0.4]\n",
    "s=[-0.843,-0.9695,-1.132,-1.278,-1.647]\n",
    "k=[0.494,0.823,1.167,1.447,2.322]\n",
    "\n",
    "plt.scatter(a,s,c='r')\n",
    "plt.title(\"BD_S\")\n",
    "plt.ylabel(\"Skewness\")\n",
    "plt.xlabel(\"θ\")\n",
    "plt.show()"
   ]
  },
  {
   "cell_type": "code",
   "execution_count": 47,
   "id": "01841a02-a78d-498b-9b0c-9c626c907818",
   "metadata": {},
   "outputs": [
    {
     "data": {
      "image/png": "[encoded data removed]",
      "text/plain": [
       "<Figure size 432x288 with 1 Axes>"
      ]
     },
     "metadata": {
      "needs_background": "light"
     },
     "output_type": "display_data"
    }
   ],
   "source": [
    "\n",
    "plt.scatter(a,k,c='b')\n",
    "plt.title(\"BD_W\")\n",
    "plt.ylabel(\"Kurtosis\")\n",
    "plt.xlabel(\"θ\")\n",
    "plt.show()"
   ]
  },
  {
   "cell_type": "code",
   "execution_count": 53,
   "id": "b8226c95-6605-45bf-94bd-b00fe33102b2",
   "metadata": {},
   "outputs": [
    {
     "name": "stderr",
     "output_type": "stream",
     "text": [
      "<ipython-input-53-b9e1ca06b254>:9: UserWarning: Legend does not support [<matplotlib.lines.Line2D object at 0x7fc9775c2dc0>] instances.\n",
      "A proxy artist may be used instead.\n",
      "See: https://matplotlib.org/users/legend_guide.html#creating-artists-specifically-for-adding-to-the-legend-aka-proxy-artists\n",
      "  plt.legend((pl1,pl2),('original data','G line'))\n"
     ]
    },
    {
     "data": {
      "image/png": "[encoded data removed]",
      "text/plain": [
       "<Figure size 432x288 with 1 Axes>"
      ]
     },
     "metadata": {
      "needs_background": "light"
     },
     "output_type": "display_data"
    }
   ],
   "source": [
    "#lnW\n",
    "lns=[-1.603,-1.212,-1.948,-1.643,-2.435]\n",
    "lnk=[5.56,1.996,4.268,2.332,5.561]\n",
    "pl1=plt.scatter(a,lns,c='r')\n",
    "pl2=plt.plot(a,[0,0,0,0,0],'black')\n",
    "plt.title(\"BD_ln W\")\n",
    "plt.ylabel(\"Kurtosis\")\n",
    "plt.xlabel(\"θ\")\n",
    "plt.legend((pl1,pl2),('original data','G line'))\n",
    "plt.show()"
   ]
  },
  {
   "cell_type": "code",
   "execution_count": 55,
   "id": "d869ce01-30a5-4e10-b519-94f1131fd5d5",
   "metadata": {},
   "outputs": [
    {
     "name": "stderr",
     "output_type": "stream",
     "text": [
      "<ipython-input-55-50e369db8291>:6: UserWarning: Legend does not support [<matplotlib.lines.Line2D object at 0x7fc976c0dd30>] instances.\n",
      "A proxy artist may be used instead.\n",
      "See: https://matplotlib.org/users/legend_guide.html#creating-artists-specifically-for-adding-to-the-legend-aka-proxy-artists\n",
      "  plt.legend((pl3,pl4),('original data','G line'))\n"
     ]
    },
    {
     "data": {
      "image/png": "[encoded data removed]",
      "text/plain": [
       "<Figure size 432x288 with 1 Axes>"
      ]
     },
     "metadata": {
      "needs_background": "light"
     },
     "output_type": "display_data"
    }
   ],
   "source": [
    "\n",
    "pl3=plt.scatter(a,lnk,c='b')\n",
    "pl4=plt.plot(a,[3,3,3,3,3],'black')\n",
    "plt.title(\"BD_ln W\")\n",
    "plt.ylabel(\"Skewness\")\n",
    "plt.xlabel(\"θ\")\n",
    "plt.legend((pl3,pl4),('original data','G line'))\n",
    "plt.show()"
   ]
  },
  {
   "cell_type": "code",
   "execution_count": 3,
   "id": "f48f51d1-51d5-401b-a393-a1f089b8394f",
   "metadata": {},
   "outputs": [],
   "source": [
    "def ffgn(st,T):\n",
    "    B=2\n",
    "    a=6\n",
    "    N=30\n",
    "    n=np.arange(1,N+1,1,dtype=float)\n",
    "    u=a*B**(-n)   #u(n)\n",
    "    r=np.e**(-u)   #r(n)\n",
    "    W=np.sqrt((12*(1-r**2)*(B**(0.5-st)-B**(st-0.5))*((a*B**(-n))**(1-2*st)))/np.random.gamma(2-2*st))\n",
    "    uu_noise=np.random.uniform(0,1,[N,T])\n",
    "    X=np.zeros((N,T))\n",
    "    et=np.zeros(T)\n",
    "    b=0\n",
    "    for nx in range(N):             #main loop for FFGN\n",
    "        X[nx,0]=(uu_noise[nx,0]-0.5)/(1-r[nx]**2)**0.5\n",
    "        for t in range(T):\n",
    "            X[nx,t]=r[nx]*X[nx,t-1]+(uu_noise[nx,t]-0.5)\n",
    "\n",
    "    for t in range(T):\n",
    "        for nx in range(N):\n",
    "            b += X[nx,t]* W[nx]\n",
    "        et[t]=b\n",
    "        if et[t]<0:\n",
    "            et[t]=0\n",
    "        elif et[t]>=0:\n",
    "            et[t]=1\n",
    "        b=0\n",
    "\n",
    "    return et"
   ]
  },
  {
   "cell_type": "code",
   "execution_count": null,
   "id": "280ec761-e3df-45bc-ab31-7178aa5fd444",
   "metadata": {},
   "outputs": [],
   "source": [
    "#计算roughness exponent\n",
    "\n",
    "\n",
    "    "
   ]
  },
  {
   "cell_type": "code",
   "execution_count": null,
   "id": "d19bc76e-f78a-481c-8840-780d5784e3ba",
   "metadata": {},
   "outputs": [],
   "source": []
  }
 ],
 "metadata": {
  "kernelspec": {
   "display_name": "Python 3",
   "language": "python",
   "name": "python3"
  },
  "language_info": {
   "codemirror_mode": {
    "name": "ipython",
    "version": 3
   },
   "file_extension": ".py",
   "mimetype": "text/x-python",
   "name": "python",
   "nbconvert_exporter": "python",
   "pygments_lexer": "ipython3",
   "version": "3.8.8"
  }
 },
 "nbformat": 4,
 "nbformat_minor": 5
}
