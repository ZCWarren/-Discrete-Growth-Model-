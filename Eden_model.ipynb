{
 "cells": [
  {
   "cell_type": "code",
   "execution_count": 1,
   "id": "3006434b-2456-4572-a0ac-ae50dc1bda6f",
   "metadata": {},
   "outputs": [],
   "source": [
    "###################################################################\n",
    "def FFGN():\n",
    "    B = 2\n",
    "    a = 6\n",
    "    θ = 0.4\n",
    "    T = 1\n",
    "    n = 1\n",
    "    \n",
    "    #decay rates\n",
    "    def u():   \n",
    "        return a * pow(B, -n)\n",
    "\n",
    "    #uncorrelated uniformly deviates\n",
    "    def r():\n",
    "        return pow(e, -u())\n",
    "\n",
    "    #uncorrelated uniformly distributed noise   ？：取值范围如何界定，为什么\n",
    "    uu_noise = np.random.uniform(0,1,T)\n",
    "\n",
    "    #weight function\n",
    "    def W():       \n",
    "        return np.sqrt((12 * (1 - r()**2) * (pow(B,0.5-θ) - pow(B,θ-0.5)) * pow(a * pow(B,-n), 1-2*θ)) / math.gamma(2-2*θ))\n",
    "\n",
    "    #auxiliary functions 辅助方程，不知道什么意思\n",
    "    def X():\n",
    "                                    # The current time\n",
    "        if T == 1:\n",
    "            x1 = (uu_noise - 0.5) / np.sqrt(1 - r()**2)               \n",
    "        elif T > 1:\n",
    "            x1 = r() * X() + (uu_noise - 0.5)\n",
    "        return x1\n",
    "\n",
    "    N = 20\n",
    "    #desired correlation noise\n",
    "    def η():\n",
    "        for n in range(1,N):\n",
    "            x = W() * X()\n",
    "        return x\n",
    "    def η1():\n",
    "        if η() >= 0:\n",
    "            return 1\n",
    "        elif η() < 0:\n",
    "            return 0\n",
    "    return η1()\n",
    "#########################################################################"
   ]
  },
  {
   "cell_type": "code",
   "execution_count": 5,
   "id": "03b446a5-370b-4354-ad3d-b0c1f6e3570f",
   "metadata": {},
   "outputs": [
    {
     "ename": "NameError",
     "evalue": "name 'x' is not defined",
     "output_type": "error",
     "traceback": [
      "\u001b[0;31m---------------------------------------------------------------------------\u001b[0m",
      "\u001b[0;31mNameError\u001b[0m                                 Traceback (most recent call last)",
      "\u001b[0;32m<ipython-input-5-b6da2dd453f2>\u001b[0m in \u001b[0;36m<module>\u001b[0;34m\u001b[0m\n\u001b[1;32m      9\u001b[0m         \u001b[0mi\u001b[0m \u001b[0;34m+=\u001b[0m \u001b[0;36m1\u001b[0m\u001b[0;34m\u001b[0m\u001b[0;34m\u001b[0m\u001b[0m\n\u001b[1;32m     10\u001b[0m     \u001b[0;32mreturn\u001b[0m \u001b[0;34m(\u001b[0m\u001b[0mmath\u001b[0m\u001b[0;34m.\u001b[0m\u001b[0msqrt\u001b[0m\u001b[0;34m(\u001b[0m\u001b[0mlen_a\u001b[0m\u001b[0;34m/\u001b[0m\u001b[0mn\u001b[0m\u001b[0;34m)\u001b[0m\u001b[0;34m)\u001b[0m\u001b[0;34m\u001b[0m\u001b[0;34m\u001b[0m\u001b[0m\n\u001b[0;32m---> 11\u001b[0;31m \u001b[0mLen\u001b[0m\u001b[0;34m(\u001b[0m\u001b[0;36m128\u001b[0m\u001b[0;34m,\u001b[0m\u001b[0;36m2000\u001b[0m\u001b[0;34m)\u001b[0m\u001b[0;34m\u001b[0m\u001b[0;34m\u001b[0m\u001b[0m\n\u001b[0m\u001b[1;32m     12\u001b[0m \u001b[0;34m\u001b[0m\u001b[0m\n\u001b[1;32m     13\u001b[0m \u001b[0;34m\u001b[0m\u001b[0m\n",
      "\u001b[0;32m<ipython-input-5-b6da2dd453f2>\u001b[0m in \u001b[0;36mLen\u001b[0;34m(L, t)\u001b[0m\n\u001b[1;32m      4\u001b[0m     \u001b[0ml\u001b[0m\u001b[0;34m=\u001b[0m\u001b[0;36m0\u001b[0m\u001b[0;34m\u001b[0m\u001b[0;34m\u001b[0m\u001b[0m\n\u001b[1;32m      5\u001b[0m     \u001b[0;32mfor\u001b[0m \u001b[0mi\u001b[0m \u001b[0;32min\u001b[0m \u001b[0mrange\u001b[0m\u001b[0;34m(\u001b[0m\u001b[0;36m0\u001b[0m\u001b[0;34m,\u001b[0m\u001b[0mn\u001b[0m\u001b[0;34m)\u001b[0m\u001b[0;34m:\u001b[0m\u001b[0;34m\u001b[0m\u001b[0;34m\u001b[0m\u001b[0m\n\u001b[0;32m----> 6\u001b[0;31m         \u001b[0mlen_1\u001b[0m \u001b[0;34m=\u001b[0m \u001b[0mmath\u001b[0m\u001b[0;34m.\u001b[0m\u001b[0msqrt\u001b[0m\u001b[0;34m(\u001b[0m\u001b[0;34m(\u001b[0m\u001b[0mx\u001b[0m\u001b[0;34m[\u001b[0m\u001b[0mi\u001b[0m\u001b[0;34m]\u001b[0m\u001b[0;34m-\u001b[0m\u001b[0mx_first\u001b[0m\u001b[0;34m)\u001b[0m\u001b[0;34m**\u001b[0m\u001b[0;36m2\u001b[0m\u001b[0;34m+\u001b[0m\u001b[0;34m(\u001b[0m\u001b[0my\u001b[0m\u001b[0;34m[\u001b[0m\u001b[0mi\u001b[0m\u001b[0;34m]\u001b[0m\u001b[0;34m-\u001b[0m\u001b[0my_first\u001b[0m\u001b[0;34m)\u001b[0m\u001b[0;34m**\u001b[0m\u001b[0;36m2\u001b[0m\u001b[0;34m)\u001b[0m\u001b[0;34m\u001b[0m\u001b[0;34m\u001b[0m\u001b[0m\n\u001b[0m\u001b[1;32m      7\u001b[0m         \u001b[0mlen_a\u001b[0m \u001b[0;34m+=\u001b[0m \u001b[0;34m(\u001b[0m\u001b[0mlen_1\u001b[0m\u001b[0;34m-\u001b[0m\u001b[0mnp\u001b[0m\u001b[0;34m.\u001b[0m\u001b[0maverage\u001b[0m\u001b[0;34m(\u001b[0m\u001b[0mlen_1\u001b[0m\u001b[0;34m)\u001b[0m\u001b[0;34m)\u001b[0m\u001b[0;34m**\u001b[0m\u001b[0;36m2\u001b[0m\u001b[0;34m\u001b[0m\u001b[0;34m\u001b[0m\u001b[0m\n\u001b[1;32m      8\u001b[0m         \u001b[0mprint\u001b[0m\u001b[0;34m(\u001b[0m\u001b[0mnp\u001b[0m\u001b[0;34m.\u001b[0m\u001b[0maverage\u001b[0m\u001b[0;34m(\u001b[0m\u001b[0mlen_1\u001b[0m\u001b[0;34m)\u001b[0m\u001b[0;34m)\u001b[0m\u001b[0;34m\u001b[0m\u001b[0;34m\u001b[0m\u001b[0m\n",
      "\u001b[0;31mNameError\u001b[0m: name 'x' is not defined"
     ]
    }
   ],
   "source": [
    "import math\n",
    "def Len(L,t):\n",
    "    i=1\n",
    "    l=0\n",
    "    for i in range(0,n):\n",
    "        len_1 = math.sqrt((x[i]-x_first)**2+(y[i]-y_first)**2)\n",
    "        len_a += (len_1-np.average(len_1))**2\n",
    "        print(np.average(len_1))\n",
    "        i += 1\n",
    "    return (math.sqrt(len_a/n))\n",
    "Len(128,2000)\n",
    "        \n",
    "        "
   ]
  },
  {
   "cell_type": "code",
   "execution_count": 2,
   "id": "2502a3bb-6705-4236-a054-aaa76a247370",
   "metadata": {},
   "outputs": [
    {
     "name": "stdout",
     "output_type": "stream",
     "text": [
      "first point\n",
      "[96, 74]\n",
      "-----------\n",
      "iterations\n",
      "2000\n"
     ]
    },
    {
     "data": {
      "text/plain": [
       "<matplotlib.image.AxesImage at 0x7fb241377880>"
      ]
     },
     "execution_count": 2,
     "metadata": {},
     "output_type": "execute_result"
    },
    {
     "data": {
      "image/png": "[encoded data removed]",
      "text/plain": [
       "<Figure size 432x288 with 1 Axes>"
      ]
     },
     "metadata": {
      "needs_background": "light"
     },
     "output_type": "display_data"
    }
   ],
   "source": [
    "import numpy as np\n",
    "import matplotlib as mpl\n",
    "import matplotlib.pyplot as plt\n",
    "import copy\n",
    "import random\n",
    "from math import e\n",
    "#When will we consider that the simulation has ended?\n",
    "#When all the positions in the colony have been occupied?\n",
    "\n",
    "L = 128\n",
    "axes = plt.gca()\n",
    "\n",
    "\n",
    "colony = np.ones((L,L), dtype = int)\n",
    "col_coord = np.array([[(i, j) for j in range(L)] for i in range(L)])\n",
    "\n",
    "#define a set of active sites, avoiding multiple instances of the same active site. This set will initialy be empty:\n",
    "active_coord = set()\n",
    "\n",
    "#Add the first active position:\n",
    "x_first = np.random.randint(0,L)\n",
    "y_first = np.random.randint(0,L)\n",
    "active_coord.add((x_first,y_first))\n",
    "colony[x_first,y_first] = 0 \n",
    "\n",
    "def func_veins(coord, LL):    #计算相邻位置\n",
    "    veins_coord =[]\n",
    "    if coord[1] + 1 <= LL - 1:\n",
    "        veins_coord.append((coord[0],coord[1]+1))\n",
    "    if coord[1] - 1 >= 0:\n",
    "        veins_coord.append((coord[0],coord[1]-1))\n",
    "    if coord[0] - 1 >= 0:\n",
    "        veins_coord.append((coord[0]-1,coord[1]))\n",
    "    if coord[0] + 1 <= LL-1:\n",
    "        veins_coord.append((coord[0]+1,coord[1]))\n",
    "    return veins_coord\n",
    "\n",
    "\n",
    "n = 0 \n",
    "while n < 2000:                                           #Main loop of Eden model\n",
    "    #We must save the unoccupied positions of the neighbors of the active positions in a list.\n",
    "    #To do this we first simply calculate the neighboring positions of the active positions\n",
    "    veins = []                                           #initialize\n",
    "    for i in range(len(active_coord)):\n",
    "        one_active_coord = list(active_coord)[i]\n",
    "        veins_function = func_veins(one_active_coord,L)\n",
    "        veins = veins + veins_function\n",
    "    veins = list(set(tuple(x) for x in veins))\n",
    "    inact_veins = [veins[j] for j in range(len(veins)) if colony[veins[j]] == 1]#delete occupied data grid points\n",
    "    inact_veins = set(inact_veins)\n",
    "    new_active = random.sample(inact_veins,1)[0]         #select a random coordinate of these neighbors \n",
    "    colony[new_active] = 0                              #occupy it\n",
    "    active_coord.add(new_active)\n",
    "    n = n + 1\n",
    "\n",
    "print('first point')\n",
    "print([x_first,y_first])\n",
    "print('-----------')\n",
    "print('iterations')\n",
    "print(n)\n",
    "\n",
    "plt.title('Eden Model_a,θ = 0')\n",
    "plt.imshow(colony, interpolation=\"none\", cmap=\"gray\")"
   ]
  },
  {
   "cell_type": "code",
   "execution_count": null,
   "id": "0eea07fe-1ce0-4c29-a0f0-06c32d2ffa36",
   "metadata": {},
   "outputs": [],
   "source": [
    "import numpy as np\n",
    "import matplotlib as mpl\n",
    "import matplotlib.pyplot as plt\n",
    "import copy\n",
    "import random\n",
    "#When will we consider that the simulation has ended?\n",
    "#When all the positions in the colony have been occupied?\n",
    "\n",
    "L = 40\n",
    "axes = plt.gca()\n",
    "axes.set_xlim(0,L)\n",
    "axes.set_ylim(0,L)\n",
    "\n",
    "colony = np.ones((L,L), dtype = int)\n",
    "col_coord = np.array([[(i, j) for j in range(L)] for i in range(L)])\n",
    "\n",
    "#define a set of active sites, avoiding multiple instances of the same active site. This set will initialy be empty:\n",
    "active_coord = set()\n",
    "\n",
    "#Add the first active position:\n",
    "x_first = np.random.randint(0,L)\n",
    "y_first = np.random.randint(0,L)\n",
    "active_coord.add((x_first,y_first))\n",
    "colony[x_first,y_first] = 0 \n",
    "\n",
    "def func_veins(coord, LL):    #计算相邻位置\n",
    "    veins_coord =[]\n",
    "    if coord[1] + 1 <= LL - 1:\n",
    "        veins_coord.append((coord[0],coord[1]+1))\n",
    "    if coord[1] - 1 >= 0:\n",
    "        veins_coord.append((coord[0],coord[1]-1))\n",
    "    if coord[0] - 1 >= 0:\n",
    "        veins_coord.append((coord[0]-1,coord[1]))\n",
    "    if coord[0] + 1 <= LL-1:\n",
    "        veins_coord.append((coord[0]+1,coord[1]))\n",
    "    return veins_coord\n",
    "\n",
    "\n",
    "n = 1 \n",
    "while n < 500:                                           #Main loop of Eden model\n",
    "    #We must save the unoccupied positions of the neighbors of the active positions in a list.\n",
    "    #To do this we first simply calculate the neighboring positions of the active positions\n",
    "    veins = []                                           #initialize\n",
    "    for i in range(len(active_coord)):\n",
    "        one_active_coord = list(active_coord)[i]\n",
    "        veins_function = func_veins(one_active_coord,L)\n",
    "        veins = veins + veins_function\n",
    "    veins = list(set(tuple(x) for x in veins))\n",
    "    inact_veins = [veins[j] for j in range(len(veins)) if colony[veins[j]] == 1]#delete occupied data grid points\n",
    "    inact_veins = set(inact_veins)\n",
    "    new_active = random.sample(inact_veins,1)[0]         #select a random coordinate of these neighbors \n",
    "    colony[new_active] = 0                               #occupy it\n",
    "    active_coord.add(new_active)\n",
    "    n = n + 1\n",
    "\n",
    "print('first point')\n",
    "print([x_first,y_first])\n",
    "print('-----------')\n",
    "print('iterations')\n",
    "print(n)\n",
    "\n",
    "plt.title('Eden Model_a')\n",
    "plt.imshow(colony, interpolation=\"none\", cmap=\"gray\")"
   ]
  },
  {
   "cell_type": "code",
   "execution_count": 1,
   "id": "c55a3b10-8f82-42c1-a3bc-9668123d9514",
   "metadata": {},
   "outputs": [
    {
     "data": {
      "image/png": "[encoded data removed]",
      "text/plain": [
       "<Figure size 432x288 with 1 Axes>"
      ]
     },
     "metadata": {
      "needs_background": "light"
     },
     "output_type": "display_data"
    },
    {
     "data": {
      "image/png": "[encoded data removed]",
      "text/plain": [
       "<Figure size 432x288 with 1 Axes>"
      ]
     },
     "metadata": {
      "needs_background": "light"
     },
     "output_type": "display_data"
    }
   ],
   "source": [
    "import random as rd\n",
    "import numpy as np\n",
    "import matplotlib.pyplot as plt\n",
    "import math\n",
    "\n",
    "def d(x,y):\n",
    "    r = pow(x**2 + y**2, 0.5)\n",
    "    return r\n",
    "\n",
    "plt.figure()\n",
    "\n",
    "t=100     # 设定时间步长\n",
    "\n",
    "point = np.array([[0,0]])\n",
    "step = np.array([[0,1],[0,-1],[1,0],[-1,0]])\n",
    "edge = step\n",
    "\n",
    "dis=[]\n",
    "dis = np.array(dis)\n",
    "wt = []\n",
    "for i in range(0,t):\n",
    "    growsite = rd.randint(0,len(edge)-1)\n",
    "    point = np.append(point,np.array([edge[growsite]]),axis=0)\n",
    "    edge = np.append(edge,np.array([edge[growsite]]) + step,axis=0)\n",
    "    j=0\n",
    "    for m in edge:\n",
    "        for n in point:\n",
    "            if m[0]==n[0] and m[1]==n[1]:\n",
    "                edge = np.delete(edge,j,axis=0)\n",
    "                j=j-1\n",
    "        j=j+1\n",
    "    # print(i)\n",
    "    for j in edge:\n",
    "        dis = np.append(dis,d(j[0], j[1]))\n",
    "    w = np.std(dis)\n",
    "    wt.append(w)\n",
    "wt = np.array(wt)\n",
    "\n",
    "plt.scatter(edge[:,0],edge[:,1],c='b')\n",
    "plt.scatter(point[:,0],point[:,1],c='r')\n",
    "plt.grid(True)\n",
    "plt.figure()\n",
    "plt.scatter(np.log10(np.arange(1,len(wt)+1)),np.log10(np.array(wt)),c='r')\n",
    "plt.show()"
   ]
  },
  {
   "cell_type": "code",
   "execution_count": 4,
   "id": "bb6e568c-1739-4631-b6d3-a077bb61b1d2",
   "metadata": {},
   "outputs": [
    {
     "name": "stdout",
     "output_type": "stream",
     "text": [
      "β = 0.3756537272820365\n"
     ]
    },
    {
     "data": {
      "image/png": "[encoded data removed]",
      "text/plain": [
       "<Figure size 432x288 with 1 Axes>"
      ]
     },
     "metadata": {
      "needs_background": "light"
     },
     "output_type": "display_data"
    },
    {
     "data": {
      "image/png": "[encoded data removed]",
      "text/plain": [
       "<Figure size 432x288 with 1 Axes>"
      ]
     },
     "metadata": {
      "needs_background": "light"
     },
     "output_type": "display_data"
    }
   ],
   "source": [
    "import random as rd\n",
    "import numpy as np\n",
    "import matplotlib.pyplot as plt\n",
    "import math\n",
    "from scipy import stats\n",
    "\n",
    "def d(x,y):\n",
    "    r = pow(x**2 + y**2, 0.5)\n",
    "    return r\n",
    "\n",
    "plt.figure()\n",
    "\n",
    "t=1000     # 设定时间步长\n",
    "\n",
    "point = np.array([[0,0]])\n",
    "step = np.array([[0,1],[0,-1],[1,0],[-1,0]])\n",
    "edge = step\n",
    "\n",
    "dis=[]\n",
    "dis = np.array(dis)\n",
    "wt = []\n",
    "for i in range(0,t):\n",
    "    growsite = rd.randint(0,len(edge)-1)\n",
    "    point = np.append(point,np.array([edge[growsite]]),axis=0)\n",
    "    edge = np.append(edge,np.array([edge[growsite]]) + step,axis=0)\n",
    "    j=0\n",
    "    for m in edge:\n",
    "        for n in point:\n",
    "            if m[0]==n[0] and m[1]==n[1]:\n",
    "                edge = np.delete(edge,j,axis=0)\n",
    "                j=j-1\n",
    "        j=j+1\n",
    "    # print(i)\n",
    "    for j in edge:\n",
    "        dis = np.append(dis,d(j[0], j[1]))\n",
    "    w = np.std(dis)\n",
    "    wt.append(w)\n",
    "wt = np.array(wt)\n",
    "\n",
    "plt.grid(True)\n",
    "plt.figure()\n",
    "plt.scatter(np.log10(np.arange(1,len(wt)+1)),np.log10(np.array(wt)),c='blue', label='OD')\n",
    "x=np.log10(np.arange(1,len(wt)+1))\n",
    "y=np.log10(np.array(wt))\n",
    "res = stats.linregress(x, y)\n",
    "plt.plot(x, res.intercept + res.slope*x, color='r', label='fitted line',)\n",
    "print('β =',res.slope) \n",
    "plt.title('Eden 1+1')  \n",
    "plt.ylabel(\"log10 W\")\n",
    "plt.xlabel(\"log10 t\")\n",
    "plt.show()"
   ]
  },
  {
   "cell_type": "code",
   "execution_count": null,
   "id": "54eb5e6d-9d9b-44fc-a65b-524f48af0fc5",
   "metadata": {},
   "outputs": [],
   "source": []
  }
 ],
 "metadata": {
  "kernelspec": {
   "display_name": "Python 3",
   "language": "python",
   "name": "python3"
  },
  "language_info": {
   "codemirror_mode": {
    "name": "ipython",
    "version": 3
   },
   "file_extension": ".py",
   "mimetype": "text/x-python",
   "name": "python",
   "nbconvert_exporter": "python",
   "pygments_lexer": "ipython3",
   "version": "3.8.8"
  }
 },
 "nbformat": 4,
 "nbformat_minor": 5
}
